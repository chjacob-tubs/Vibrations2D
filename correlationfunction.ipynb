{
 "cells": [
  {
   "cell_type": "markdown",
   "id": "e2a1ce6a-3e03-4a60-a922-20b8b832835b",
   "metadata": {
    "tags": []
   },
   "source": [
    "# Evaluate the four point correlation function\n",
    "\n",
    "\\begin{equation}\n",
    "\\begin{split}\n",
    "\\Big\\langle \\left( \\hat \\alpha \\cdot \\hat E_a \\right) \n",
    "&\\left( \\hat \\beta \\cdot \\hat E_b \\right) \n",
    "\\left( \\hat \\gamma \\cdot \\hat E_c \\right) \n",
    "\\left( \\hat \\delta \\cdot \\hat E_d \\right) \\Big\\rangle =\\\\\n",
    "= \\frac{1}{30} \\{\n",
    "&\\cos \\theta_{\\alpha\\beta} \\cos \\theta_{\\gamma\\delta} \\left( 4 \\cos \\theta_{ab} \\cos \\theta_{cd} - \\cos \\theta_{ac} \\cos \\theta_{bd} - \\cos \\theta_{ad} \\cos \\theta_{bc} \\right) +\\\\\n",
    "+ &\\cos \\theta_{\\alpha\\gamma} \\cos \\theta_{\\beta\\delta} \\left( 4 \\cos \\theta_{ac} \\cos \\theta_{bd} - \\cos \\theta_{ab} \\cos \\theta_{cd} - \\cos \\theta_{ad} \\cos \\theta_{bc} \\right) +\\\\\n",
    "+ &\\cos \\theta_{\\alpha\\delta} \\cos \\theta_{\\beta\\gamma} \\left( 4 \\cos \\theta_{ad} \\cos \\theta_{bc} - \\cos \\theta_{ab} \\cos \\theta_{cd} - \\cos \\theta_{ac} \\cos \\theta_{bd} \\right)\n",
    "\\}\n",
    "\\end{split}\n",
    "\\end{equation}\n",
    "\n",
    "cos mit griechischen Buchstaben wird in nem anderen Skript ausgerechnet. Alles andere:\n",
    "\n",
    "\\begin{equation} \n",
    "\\begin{split}\n",
    "\\cos\\theta_{ii}=1 \\\\\n",
    "\\cos\\theta_{ij} = 0\t\n",
    "\\end{split}\n",
    "\\end{equation}"
   ]
  },
  {
   "cell_type": "code",
   "execution_count": 1,
   "id": "66d2b058-cd81-480d-b202-b840572d7336",
   "metadata": {},
   "outputs": [],
   "source": [
    "import numpy as np\n",
    "from numpy import linalg as LA"
   ]
  },
  {
   "cell_type": "code",
   "execution_count": 2,
   "id": "1f64a233-0782-4626-ab7b-aef316498c18",
   "metadata": {
    "tags": []
   },
   "outputs": [
    {
     "data": {
      "text/plain": [
       "[0, 0, 90, 90]"
      ]
     },
     "execution_count": 2,
     "metadata": {},
     "output_type": "execute_result"
    }
   ],
   "source": [
    "def set_pol_angles(pol):\n",
    "    '''\n",
    "    pol: e.g. <ZZZZ>\n",
    "\n",
    "    '''\n",
    "    \n",
    "    pol_list = [0,0,0,0]\n",
    "    \n",
    "    for i, val in enumerate(pol):\n",
    "        if val == pol[0]:\n",
    "            pol_list[i] = 0\n",
    "        if val != pol[0]:\n",
    "            pol_list[i] = 90\n",
    "        \n",
    "    return pol_list\n",
    "        \n",
    "set_pol_angles('ZZXX')"
   ]
  },
  {
   "cell_type": "code",
   "execution_count": 3,
   "id": "dbd346d2-d9b3-402e-82ae-5303d4b343af",
   "metadata": {
    "tags": []
   },
   "outputs": [
    {
     "data": {
      "text/plain": [
       "(2.0, 2.0, 2.0)"
      ]
     },
     "execution_count": 3,
     "metadata": {},
     "output_type": "execute_result"
    }
   ],
   "source": [
    "def calc_fourpoint_faktors(pol):\n",
    "    '''\n",
    "    Calculating parts of the function:\n",
    "    row1 = 4 * cos theta_ab * cos theta_cd - cos theta_ac * cos theta_bd - cos theta_ad * cos theta_bc\n",
    "    row2 = 4 * cos theta_ac * cos theta_bd - cos theta_ab * cos theta_cd - cos theta_ad * cos theta_bc\n",
    "    row3 = 4 * cos theta_ad * cos theta_bc - cos theta_ab * cos theta_cd - cos theta_ac * cos theta_bd\n",
    "    \n",
    "    '''\n",
    "    \n",
    "    ab = np.deg2rad(pol[0]-pol[1])\n",
    "    cd = np.deg2rad(pol[2]-pol[3])\n",
    "    ac = np.deg2rad(pol[0]-pol[2])\n",
    "    bd = np.deg2rad(pol[1]-pol[3])\n",
    "    ad = np.deg2rad(pol[0]-pol[3])\n",
    "    bc = np.deg2rad(pol[1]-pol[2])\n",
    "    \n",
    "    row1 = 4 * np.cos(ab) * np.cos(cd) - np.cos(ac) * np.cos(bd) - np.cos(ad) * np.cos(bc)\n",
    "    row2 = 4 * np.cos(ac) * np.cos(bd) - np.cos(ab) * np.cos(cd) - np.cos(ad) * np.cos(bc)\n",
    "    row3 = 4 * np.cos(ad) * np.cos(bc) - np.cos(ab) * np.cos(cd) - np.cos(ac) * np.cos(bd)\n",
    "    \n",
    "    return row1,row2,row3\n",
    "    \n",
    "calc_fourpoint_faktors(set_pol_angles('ZZZZ'))"
   ]
  },
  {
   "cell_type": "code",
   "execution_count": 4,
   "id": "1f4efb43-9309-4930-aaac-8b8c618e8a5d",
   "metadata": {},
   "outputs": [
    {
     "name": "stdout",
     "output_type": "stream",
     "text": [
      "0.8164965809277259\n",
      "0.8164965809277259\n",
      "1.0000000000000002\n"
     ]
    }
   ],
   "source": [
    "def calc_cos(vec1,vec2):\n",
    "    '''\n",
    "    calculates the cosine between two three-dimensional vectors\n",
    "    \n",
    "    '''\n",
    "    \n",
    "    mu1 = LA.norm(vec1)\n",
    "    mu2 = LA.norm(vec2)\n",
    "    \n",
    "    if mu1 != 0 and mu2 !=0:\n",
    "        cos12 = ( vec1[0]*np.conj(vec2[0])+vec1[1]*np.conj(vec2[1])+vec1[2]*np.conj(vec2[2]) ) / (mu1*mu2)\n",
    "    else:\n",
    "        cos12 = 0\n",
    "    \n",
    "    return cos12\n",
    "\n",
    "print(calc_cos([1,1,1],[1,1,0]))\n",
    "print(calc_cos([1,1,0],[1,1,1]))\n",
    "print(calc_cos([1,1,1],[1,1,1]))"
   ]
  },
  {
   "cell_type": "markdown",
   "id": "0cb99707-b3f8-49db-826f-0a1c096889d9",
   "metadata": {},
   "source": [
    "\\begin{equation}\n",
    "\\begin{split}\n",
    "\\Big\\langle \\left( \\hat \\alpha \\cdot \\hat E_a \\right) \n",
    "&\\left( \\hat \\beta \\cdot \\hat E_b \\right) \n",
    "\\left( \\hat \\gamma \\cdot \\hat E_c \\right) \n",
    "\\left( \\hat \\delta \\cdot \\hat E_d \\right) \\Big\\rangle =\\\\\n",
    "= \\frac{1}{30} \\{\n",
    "&\\cos \\theta_{\\alpha\\beta} \\cos \\theta_{\\gamma\\delta} \\left( 4 \\cos \\theta_{ab} \\cos \\theta_{cd} - \\cos \\theta_{ac} \\cos \\theta_{bd} - \\cos \\theta_{ad} \\cos \\theta_{bc} \\right) +\\\\\n",
    "+ &\\cos \\theta_{\\alpha\\gamma} \\cos \\theta_{\\beta\\delta} \\left( 4 \\cos \\theta_{ac} \\cos \\theta_{bd} - \\cos \\theta_{ab} \\cos \\theta_{cd} - \\cos \\theta_{ad} \\cos \\theta_{bc} \\right) +\\\\\n",
    "+ &\\cos \\theta_{\\alpha\\delta} \\cos \\theta_{\\beta\\gamma} \\left( 4 \\cos \\theta_{ad} \\cos \\theta_{bc} - \\cos \\theta_{ab} \\cos \\theta_{cd} - \\cos \\theta_{ac} \\cos \\theta_{bd} \\right)\n",
    "\\}\n",
    "\\end{split}\n",
    "\\end{equation}"
   ]
  },
  {
   "cell_type": "code",
   "execution_count": 5,
   "id": "36b2ecdf-2f22-46a0-abeb-cc791301634d",
   "metadata": {},
   "outputs": [
    {
     "name": "stdout",
     "output_type": "stream",
     "text": [
      "Vgl. ZZZZ, jjii:  0.15555555555555553\n",
      "Vgl. ZXXZ, jjii:  0.03333333333333332\n",
      "Vgl. ZZXX, jjii:  0.08888888888888889\n",
      "\n",
      "2.0 2.0 2.0\n",
      "Mu:  [[1, 1, 0], [1, 1, 0], [1, 1, 1], [1, 1, 1]]\n",
      "Vgl. ZZZZ, jjii/jiij/jiji:  0.15555555555555553\n",
      "Vgl. ZXXZ,           jjii:  0.03333333333333332\n",
      "ZZZZ, jjii:  0.15555555555555553\n",
      "\n",
      "-1.0 -1.0 4.0\n",
      "Mu:  [[1, 1, 0], [1, 1, 0], [1, 1, 1], [1, 1, 1]]\n",
      "Vgl. ZZZZ, jjii/jiij/jiji:  0.15555555555555553\n",
      "Vgl. ZXXZ,           jjii:  0.03333333333333332\n",
      "ZXXZ, jjii:  0.03333333333333332\n",
      "\n",
      "4.0 -1.0 -1.0\n",
      "Mu:  [[1, 1, 0], [1, 1, 0], [1, 1, 1], [1, 1, 1]]\n",
      "Vgl. ZZZZ, jjii/jiij/jiji:  0.15555555555555553\n",
      "Vgl. ZXXZ,           jjii:  0.03333333333333332\n",
      "ZZXX, jjii:  0.08888888888888889\n"
     ]
    }
   ],
   "source": [
    "def calc_dipole_terms(pathway,fak1,fak2,fak3,*mus):\n",
    "    '''\n",
    "    pathway : 'jjii', 'jiji', 'jiij', 'jikl'\n",
    "    \n",
    "    S = 1/30 * ( cos theta_alpha_beta  * cos theta_gamma_delta * fak1\n",
    "               - cos theta_alpha_gamma * cos theta_beta_delta  * fak2\n",
    "               - cos theta_alpha_delta * cos theta_beta_gamma  * fak3 )\n",
    "    \n",
    "    '''\n",
    "        \n",
    "    mu = [0,0,0,0]\n",
    "\n",
    "    for i, val in enumerate(pathway):\n",
    "    \n",
    "        if val == 'j':\n",
    "            mu[i] = mus[0]\n",
    "    \n",
    "        if val == 'i':\n",
    "            mu[i] = mus[1]\n",
    "    \n",
    "        if val == 'k':\n",
    "            mu[i] = mus[2]\n",
    "    \n",
    "        if val == 'l':\n",
    "            mu[i] = mus[3]\n",
    "    \n",
    "    print('Mu: ',mu)\n",
    "    \n",
    "    S1 = fak1 * calc_cos(mu[0],mu[1]) * calc_cos(mu[2],mu[3])\n",
    "    S2 = fak2 * calc_cos(mu[0],mu[2]) * calc_cos(mu[1],mu[3])\n",
    "    S3 = fak3 * calc_cos(mu[0],mu[3]) * calc_cos(mu[1],mu[2])\n",
    "    \n",
    "    S = (S1 + S2 + S3) / 30\n",
    "    \n",
    "    print('Vgl. ZZZZ, jjii/jiij/jiji: ', (1/15) * ( 2 * (calc_cos(mus[0],mus[1])**2) + 1 ))\n",
    "    print('Vgl. ZXXZ,           jjii: ', (1/30) * ( 3 * (calc_cos(mus[0],mus[1])**2) - 1 ))\n",
    "    \n",
    "    return S\n",
    "\n",
    "\n",
    "a = [1,1,0]\n",
    "b = [1,1,1]\n",
    "c = [1,1,2]\n",
    "d = [1,1,3]\n",
    "\n",
    "print('Vgl. ZZZZ, jjii: ', ( 2 * (calc_cos(a,b)**2) + 1 ) / 15)\n",
    "print('Vgl. ZXXZ, jjii: ', ( 3 * (calc_cos(a,b)**2) - 1 ) / 30)\n",
    "print('Vgl. ZZXX, jjii: ', ( - (calc_cos(a,b)**2) + 2 ) / 15)\n",
    "print()\n",
    "\n",
    "fak1,fak2,fak3 = calc_fourpoint_faktors(set_pol_angles('ZZZZ'))\n",
    "print(fak1,fak2,fak3)\n",
    "print('ZZZZ, jjii: ',calc_dipole_terms('jjii',fak1,fak2,fak3,a,b,c,d))\n",
    "\n",
    "print()\n",
    "\n",
    "fak1_,fak2_,fak3_ = calc_fourpoint_faktors(set_pol_angles('ZXXZ'))\n",
    "print(fak1_,fak2_,fak3_)\n",
    "print('ZXXZ, jjii: ',calc_dipole_terms('jjii',fak1_,fak2_,fak3_,a,b,c,d))\n",
    "\n",
    "print()\n",
    "\n",
    "fak1_1,fak2_1,fak3_1 = calc_fourpoint_faktors(set_pol_angles('ZZXX'))\n",
    "print(fak1_1,fak2_1,fak3_1)\n",
    "print('ZZXX, jjii: ',calc_dipole_terms('jjii',fak1_1,fak2_1,fak3_1,a,b,c,d))"
   ]
  },
  {
   "cell_type": "code",
   "execution_count": null,
   "id": "b38c7ac2-48ed-4cf6-8b9b-fa24edbfc599",
   "metadata": {},
   "outputs": [],
   "source": []
  }
 ],
 "metadata": {
  "kernelspec": {
   "display_name": "Python 3 (ipykernel)",
   "language": "python",
   "name": "python3"
  },
  "language_info": {
   "codemirror_mode": {
    "name": "ipython",
    "version": 3
   },
   "file_extension": ".py",
   "mimetype": "text/x-python",
   "name": "python",
   "nbconvert_exporter": "python",
   "pygments_lexer": "ipython3",
   "version": "3.8.12"
  }
 },
 "nbformat": 4,
 "nbformat_minor": 5
}
